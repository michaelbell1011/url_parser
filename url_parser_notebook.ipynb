{
 "cells": [
  {
   "cell_type": "code",
   "execution_count": 1,
   "metadata": {},
   "outputs": [],
   "source": [
    "# import RegEx module\n",
    "import re"
   ]
  },
  {
   "cell_type": "code",
   "execution_count": 31,
   "metadata": {},
   "outputs": [],
   "source": [
    "def parse_url(url):\n",
    "    \"\"\"\n",
    "    Takes in `url` string and parses components of the address, returned as dict.\n",
    "    \"\"\"\n",
    "    pattern = re.compile(r'(?P<protocol>\\w+://)*(?P<website>(w{3}\\.)*[^/]+)(?P<path>\\S*)')\n",
    "    match = pattern.match(url)\n",
    "    return match.groupdict()"
   ]
  },
  {
   "cell_type": "code",
   "execution_count": 32,
   "metadata": {},
   "outputs": [
    {
     "name": "stdout",
     "output_type": "stream",
     "text": [
      "{'protocol': 'https://', 'website': 'www.geeksforgeeks.org', 'path': '/parsing-and-processing-url-using-python-regex/'}\n"
     ]
    }
   ],
   "source": [
    "# example of typical url\n",
    "example1 = 'https://www.geeksforgeeks.org/parsing-and-processing-url-using-python-regex/'\n",
    "r = parse_url(example1)\n",
    "print(r)"
   ]
  },
  {
   "cell_type": "code",
   "execution_count": 33,
   "metadata": {},
   "outputs": [
    {
     "name": "stdout",
     "output_type": "stream",
     "text": [
      "('protocol', 'https://')\n",
      "('website', 'en.wikipedia.org')\n",
      "('path', '/wiki/Main_Page')\n"
     ]
    }
   ],
   "source": [
    "# exmple with different host other than `www.`\n",
    "example2 = 'https://en.wikipedia.org/wiki/Main_Page'\n",
    "r = parse_url(example2)\n",
    "for tup in r.items():\n",
    "    print(tup)"
   ]
  },
  {
   "cell_type": "code",
   "execution_count": 34,
   "metadata": {},
   "outputs": [
    {
     "data": {
      "text/plain": [
       "{'protocol': None,\n",
       " 'website': 'www.google.com',\n",
       " 'path': '/search?q=do+a+barrel+roll&oq=do+a+&aqs=chrome.1.69i57j0l3j0i433j0j0i131i433j0i433j46j0.2152j0j15&sourceid=chrome&ie=UTF-8'}"
      ]
     },
     "execution_count": 34,
     "metadata": {},
     "output_type": "execute_result"
    }
   ],
   "source": [
    "# example with no protocol in url string\n",
    "example3 = 'www.google.com/search?q=do+a+barrel+roll&oq=do+a+&aqs=chrome.1.69i57j0l3j0i433j0j0i131i433j0i433j46j0.2152j0j15&sourceid=chrome&ie=UTF-8'\n",
    "r = parse_url(example3)\n",
    "r"
   ]
  }
 ],
 "metadata": {
  "kernelspec": {
   "display_name": "Python 3",
   "language": "python",
   "name": "python3"
  },
  "language_info": {
   "codemirror_mode": {
    "name": "ipython",
    "version": 3
   },
   "file_extension": ".py",
   "mimetype": "text/x-python",
   "name": "python",
   "nbconvert_exporter": "python",
   "pygments_lexer": "ipython3",
   "version": "3.8.3"
  }
 },
 "nbformat": 4,
 "nbformat_minor": 4
}
